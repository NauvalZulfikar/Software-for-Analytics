{
 "cells": [
  {
   "cell_type": "markdown",
   "id": "14dddb93-b3e2-4e33-86d8-06db6bdbea48",
   "metadata": {
    "tags": []
   },
   "source": [
    "# Lecture 1"
   ]
  },
  {
   "cell_type": "markdown",
   "id": "5c9d3a27-1f70-42b8-903e-861826527984",
   "metadata": {
    "jp-MarkdownHeadingCollapsed": true,
    "tags": []
   },
   "source": [
    "## Exercise 1.1"
   ]
  },
  {
   "cell_type": "code",
   "execution_count": 89,
   "id": "50e28e62-eaad-4ad7-b225-b1ae37e53dfa",
   "metadata": {},
   "outputs": [
    {
     "name": "stdout",
     "output_type": "stream",
     "text": [
      "(Exercise 1.1) Nauval Zulfikar, welcome to BNM 864\n"
     ]
    }
   ],
   "source": [
    "print(f'(Exercise 1.1) Nauval Zulfikar, welcome to BNM 864')"
   ]
  },
  {
   "cell_type": "markdown",
   "id": "5f9b6736-8a8b-466f-9283-ddce311dbd00",
   "metadata": {
    "jp-MarkdownHeadingCollapsed": true,
    "tags": []
   },
   "source": [
    "## Exercise 1.2"
   ]
  },
  {
   "cell_type": "markdown",
   "id": "bd18f033-4cbe-4614-9ce7-4c637a647b29",
   "metadata": {},
   "source": [
    "Write the code (either in a script or in Jupyter notebook), which calculates the area of a right angle triangle, where the sides adjacent to the right angle have the length of 5 and 10. Formula: p*t/2"
   ]
  },
  {
   "cell_type": "code",
   "execution_count": 90,
   "id": "09c3775e-0ca4-4127-9d76-8c7afaf6d0d2",
   "metadata": {},
   "outputs": [
    {
     "name": "stdout",
     "output_type": "stream",
     "text": [
      "(Exercise 1.2) Area of a right angle triangle: 25.0\n"
     ]
    }
   ],
   "source": [
    "print(f\"(Exercise 1.2) Area of a right angle triangle: {(5*10)/2}\")"
   ]
  },
  {
   "cell_type": "markdown",
   "id": "e59838e5-920d-4088-b3e8-2ec4a27024ad",
   "metadata": {
    "jp-MarkdownHeadingCollapsed": true,
    "tags": []
   },
   "source": [
    "## Exercise 1.3"
   ]
  },
  {
   "cell_type": "markdown",
   "id": "9a2fcd32-b2e6-4276-bc37-be5170f7e8f7",
   "metadata": {},
   "source": [
    "Create a list holding the names of the days of the week. Measure the length of the list and store the result in a variable called \"length\". Perform a check that the list contains \"Friday\" and store the result in a variabled called \"has_friday\". If \"Friday\" is absent, print \"Friday is absent!\"."
   ]
  },
  {
   "cell_type": "code",
   "execution_count": 91,
   "id": "5f377d10-05c9-418c-bb44-3570f1f7ad95",
   "metadata": {},
   "outputs": [
    {
     "name": "stdout",
     "output_type": "stream",
     "text": [
      "(Exercise 1.3) List length: 7\n",
      "(Exercise 1.3) Friday is available!\n"
     ]
    }
   ],
   "source": [
    "day_list = ['Monday','Tuesday','Wednesday','Thursday',\n",
    "            'Friday','Saturday','Sunday']\n",
    "length = len(day_list)\n",
    "print(f'(Exercise 1.3) List length: {length}')\n",
    "has_friday = 'Friday' in day_list\n",
    "if not has_friday:\n",
    "    print('(Exercise 1.3) Friday is absent!')\n",
    "else:\n",
    "    print('(Exercise 1.3) Friday is available!')"
   ]
  },
  {
   "cell_type": "markdown",
   "id": "92a695fb-f7c1-49b6-81ab-f8d53a64145e",
   "metadata": {
    "jp-MarkdownHeadingCollapsed": true,
    "tags": []
   },
   "source": [
    "## Exercise 1.4"
   ]
  },
  {
   "cell_type": "markdown",
   "id": "7b3dbbf3-19a8-4d95-ac48-f2c51c285b79",
   "metadata": {},
   "source": [
    "Create a nested list, called `table`, which contains two sublists as elements. The first one contains five names of people (for example, James, David, Emma, George, Olivia). The second one contains their ages (for example, 17, 35, 55, 31, and 28). Feel free to use any other names and ages. Retrieve the name and age of the third person in this table."
   ]
  },
  {
   "cell_type": "code",
   "execution_count": 92,
   "id": "b2b6d18b-bed6-47cb-8dbd-2a0ec123b6b0",
   "metadata": {},
   "outputs": [
    {
     "name": "stdout",
     "output_type": "stream",
     "text": [
      "(Exercise 1.4) Third person name and age: Emma (55)\n"
     ]
    }
   ],
   "source": [
    "table = [\n",
    "    ['James', 'David', 'Emma', 'George', 'Olivia'],\n",
    "    [17, 35, 55, 31, 28]\n",
    "]\n",
    "print(f'(Exercise 1.4) Third person name and age: {table[0][2]} ({table[1][2]})')"
   ]
  },
  {
   "cell_type": "markdown",
   "id": "885503f8-57d2-4d69-aa32-af599e7d564d",
   "metadata": {
    "jp-MarkdownHeadingCollapsed": true,
    "tags": []
   },
   "source": [
    "## Exercise 1.5 (optional)"
   ]
  },
  {
   "cell_type": "markdown",
   "id": "7d5a4f7c-dbd1-4cc9-882a-9c64a0acd9c9",
   "metadata": {},
   "source": [
    "Create a list with an integer (3), a float (3.5), a string (\"xyz\"), and a list ([\"abc\", \"def\"]). Iterate over the list, printing only those elements that are numbers."
   ]
  },
  {
   "cell_type": "code",
   "execution_count": 93,
   "id": "7958d1f0-e793-4e14-b4c3-1b8513ea0c8f",
   "metadata": {},
   "outputs": [
    {
     "name": "stdout",
     "output_type": "stream",
     "text": [
      "(Exercise 1.5) numbers only: [3, 3.5]\n"
     ]
    }
   ],
   "source": [
    "exc1_5 = [3,3.5,'xyz',['abc','def']]\n",
    "numbers = []\n",
    "for item in exc1_5:\n",
    "    if isinstance(item, (int,float)):\n",
    "        numbers.append(item)\n",
    "print(f'(Exercise 1.5) numbers only: {numbers}')"
   ]
  }
 ],
 "metadata": {
  "kernelspec": {
   "display_name": "Python 3 (ipykernel)",
   "language": "python",
   "name": "python3"
  },
  "language_info": {
   "codemirror_mode": {
    "name": "ipython",
    "version": 3
   },
   "file_extension": ".py",
   "mimetype": "text/x-python",
   "name": "python",
   "nbconvert_exporter": "python",
   "pygments_lexer": "ipython3",
   "version": "3.9.12"
  }
 },
 "nbformat": 4,
 "nbformat_minor": 5
}
