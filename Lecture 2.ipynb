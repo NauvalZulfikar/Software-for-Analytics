{
 "cells": [
  {
   "cell_type": "markdown",
   "id": "316cc004-e70e-4945-a88d-3dd90ad2ccb6",
   "metadata": {
    "jp-MarkdownHeadingCollapsed": true,
    "tags": []
   },
   "source": [
    "# Lecture 2"
   ]
  },
  {
   "cell_type": "markdown",
   "id": "3c15c2ac-777d-4924-8a8c-62a7439ee19a",
   "metadata": {
    "jp-MarkdownHeadingCollapsed": true,
    "tags": []
   },
   "source": [
    "## Exercise 2.1"
   ]
  },
  {
   "cell_type": "markdown",
   "id": "6b38cb5d-adfc-4a59-ba1b-0d210c573d8c",
   "metadata": {},
   "source": [
    "Write code in a Jupyter notebook that performs the following steps:\n",
    "Create a variable x, assign to it the value of 5 Check if x is an odd number (hint: use the modulo operator discussed in Session 1)\n",
    "> If it is odd, print \"x is odd\"\n",
    "\n",
    "> If it is even, print \"x is even\"\n",
    "\n",
    "Change x to be 6, re-run the cell What happens if x is a string (e.g., \"abc\")? How would you handle this possibility?"
   ]
  },
  {
   "cell_type": "code",
   "execution_count": 94,
   "id": "8d1e891d-fcde-4b62-a153-19e4f272b366",
   "metadata": {},
   "outputs": [
    {
     "name": "stdout",
     "output_type": "stream",
     "text": [
      "(Exercise 2.1) x is odd\n",
      "(Exercise 2.1) x is even\n",
      "(Exercise 2.1) x is string\n"
     ]
    }
   ],
   "source": [
    "x = 5\n",
    "print('(Exercise 2.1) x is odd') if x % 2 == 1 else print('(Exercise 2.1) x is even')\n",
    "    \n",
    "x = 6\n",
    "print('(Exercise 2.1) x is odd') if x % 2 == 1 else print('(Exercise 2.1) x is even')\n",
    "    \n",
    "x = 'abc'\n",
    "print('(Exercise 2.1) x is string') if type(x) == str else print('(Exercise 2.1) x is odd') if x % 2 == 1 else print('(Exercise 2.1) x is even')"
   ]
  },
  {
   "cell_type": "markdown",
   "id": "148290bf-e8f5-4ba8-9c73-236abdf47e03",
   "metadata": {
    "jp-MarkdownHeadingCollapsed": true,
    "tags": []
   },
   "source": [
    "## Exercise 2.2"
   ]
  },
  {
   "cell_type": "markdown",
   "id": "6f526202-9975-4278-bf46-c43f32406b80",
   "metadata": {},
   "source": [
    "Suppose the user can input values to two string variables, \"animal\" and \"colour\", e.g.:\n",
    "> animal = \"cat\"\n",
    "\n",
    "> colour = \"black\"\n",
    "\n",
    "Write code that checks the input values and prints one of the following:\n",
    ">\"It is a white dog\"\n",
    "\n",
    ">\"It is a black cat\"\n",
    "\n",
    ">\"It is neither a white dog, nor a black cat\""
   ]
  },
  {
   "cell_type": "code",
   "execution_count": 95,
   "id": "44b83065-16c4-4954-88d6-c6369ff4e8b0",
   "metadata": {},
   "outputs": [
    {
     "name": "stdout",
     "output_type": "stream",
     "text": [
      "(Exercise 2.2) It is a black cat\n"
     ]
    }
   ],
   "source": [
    "animal = \"cat\"\n",
    "colour = \"black\"\n",
    "print('(Exercise 2.2) It is a black cat') if animal == 'cat' and colour == 'black' else print('(Exercise 2.2) It is a white dog') if animal == 'dog' and colour == 'white' else print('(Exercise 2.2) It is neither a white dog, nor a black cat')"
   ]
  },
  {
   "cell_type": "markdown",
   "id": "a19298ca-02d9-43bb-9732-e2b7d19c4ae7",
   "metadata": {
    "jp-MarkdownHeadingCollapsed": true,
    "tags": []
   },
   "source": [
    "## Exercise 2.3"
   ]
  },
  {
   "cell_type": "markdown",
   "id": "f12324c1-6aa5-4b11-b6f5-903c4e763ed2",
   "metadata": {},
   "source": [
    "There are two lists with names of colours, e.g.:\n",
    "> colours1 = [\"white\", \"black\", \"red\"]\n",
    "\n",
    ">colours2 = [\"red\", \"green\"]\n",
    "\n",
    "Write code to print out the colours from colours1 which are not present in colours2. For example, given the two lists in the example above, the output should be \"white\" and \"black\".\n",
    "Hint: you may need to review the material from Session 2."
   ]
  },
  {
   "cell_type": "code",
   "execution_count": 96,
   "id": "35fcd5be-d8fa-4282-8723-1a411af52168",
   "metadata": {},
   "outputs": [
    {
     "name": "stdout",
     "output_type": "stream",
     "text": [
      "(Exercise 2.3) ['white', 'black']\n"
     ]
    }
   ],
   "source": [
    "colours1 = [\"white\", \"black\", \"red\"]\n",
    "colours2 = [\"red\", \"green\"]\n",
    "\n",
    "not_in_colours2 = []\n",
    "\n",
    "for colour in colours1:\n",
    "    if colour not in colours2:\n",
    "        not_in_colours2.append(colour)\n",
    "        \n",
    "print(f'(Exercise 2.3) {not_in_colours2}')"
   ]
  },
  {
   "cell_type": "markdown",
   "id": "35552cb4-f4bd-4955-ad06-41f7c7d17966",
   "metadata": {
    "jp-MarkdownHeadingCollapsed": true,
    "tags": []
   },
   "source": [
    "## Exercise 2.4"
   ]
  },
  {
   "cell_type": "markdown",
   "id": "792faaf0-dca5-4982-a79c-aa93ce71fe62",
   "metadata": {},
   "source": [
    "Write a program to remove duplicates from a list. For example, given input:\n",
    ">a = [1, 4, 2, 3, 4, 2]\n",
    "\n",
    "the output should be:\n",
    ">[1, 2, 3, 4]"
   ]
  },
  {
   "cell_type": "code",
   "execution_count": 97,
   "id": "538b6358-71e7-4868-b823-a910340d14a2",
   "metadata": {},
   "outputs": [
    {
     "name": "stdout",
     "output_type": "stream",
     "text": [
      "(Exercise 2.4) [1, 2, 3, 4]\n"
     ]
    }
   ],
   "source": [
    "a = [1, 4, 2, 3, 4, 2]\n",
    "print(f'(Exercise 2.4) {sorted(list(set(a)))}')"
   ]
  },
  {
   "cell_type": "markdown",
   "id": "c1102ac2-dca1-42d8-9aef-aec665d788d1",
   "metadata": {
    "jp-MarkdownHeadingCollapsed": true,
    "tags": []
   },
   "source": [
    "## Exercise 2.5"
   ]
  },
  {
   "cell_type": "markdown",
   "id": "a9d928c7-26e8-460a-ab27-1d941695dcee",
   "metadata": {},
   "source": [
    "Write code that completes the following:\n",
    ">1. Create a dictionary to represent a phonebook with the following entries:\n",
    "\n",
    ">>Doe: 239243\n",
    "\n",
    ">>Smith: 238090\n",
    "\n",
    ">>Brown: 238412\n",
    "\n",
    ">2. Add a record for \"Roe\", tel number 231109\n",
    "\n",
    ">3. Remove the record for \"Doe\"\n",
    "\n",
    ">4. Retrieve the phone number for \"Smith\""
   ]
  },
  {
   "cell_type": "code",
   "execution_count": 98,
   "id": "33e47067-86e0-41b7-b33c-68f145dd59d0",
   "metadata": {},
   "outputs": [
    {
     "name": "stdout",
     "output_type": "stream",
     "text": [
      "(Exercise 2.5) {'Doe': 239243, 'Smith': 238090, 'Brown': 238412}\n",
      "(Exercise 2.5) {'Doe': 239243, 'Smith': 238090, 'Brown': 238412, 'Roe': 231109}\n",
      "(Exercise 2.5) {'Smith': 238090, 'Brown': 238412, 'Roe': 231109}\n",
      "(Exercise 2.5) Smith: 238090\n"
     ]
    }
   ],
   "source": [
    "phonebook = {'Doe': 239243,'Smith': 238090,'Brown': 238412}\n",
    "print(f'(Exercise 2.5) {phonebook}')\n",
    "add_phonebook = {'Roe': 231109}\n",
    "phonebook.update(add_phonebook)\n",
    "print(f'(Exercise 2.5) {phonebook}')\n",
    "phonebook.pop('Doe')\n",
    "print(f'(Exercise 2.5) {phonebook}')\n",
    "# phonebook.pop('Smith')\n",
    "print(f'(Exercise 2.5) Smith: {phonebook[\"Smith\"]}')"
   ]
  },
  {
   "cell_type": "markdown",
   "id": "7dd5b696-9c32-48d4-b886-f5e4fd131594",
   "metadata": {
    "jp-MarkdownHeadingCollapsed": true,
    "tags": []
   },
   "source": [
    "## Exercise 2.6"
   ]
  },
  {
   "cell_type": "markdown",
   "id": "dbd0a0cb-77b7-4e2a-b2c2-57984d7e9551",
   "metadata": {},
   "source": [
    "Two people hold their savings in different currencies. Write a program that finds out how much the two people own jointly, in each currency. Use dictionaries to store the input data and the calculated result.\n",
    "For example, given this input:\n",
    ">person1 = {\"GBP\": 200, \"USD\": 300, \"EUR\": 300}\n",
    ">person2 = {\"GBP\": 100, \"USD\": 200, \"CNY\": 400}\n",
    "\n",
    "your program should produce the output:\n",
    ">joint = {\"GBP\": 300, \"USD\": 500, \"EUR\": 300, \"CNY\": 400}"
   ]
  },
  {
   "cell_type": "code",
   "execution_count": 99,
   "id": "f76c52c5-87ef-4b94-8ae7-553cf93f0250",
   "metadata": {},
   "outputs": [
    {
     "name": "stdout",
     "output_type": "stream",
     "text": [
      "(Exercise 2.6) {'GBP': 300, 'USD': 500, 'EUR': 300, 'CNY': 400}\n"
     ]
    }
   ],
   "source": [
    "person1 = {\"GBP\": 200, \"USD\": 300, \"EUR\": 300}\n",
    "person2 = {\"GBP\": 100, \"USD\": 200, \"CNY\": 400}\n",
    "\n",
    "joint = {}\n",
    "\n",
    "for i,j in person1.items():\n",
    "    joint[i] = j\n",
    "\n",
    "for i,j in person2.items():\n",
    "    if i in joint:\n",
    "        existing_value = joint[i]\n",
    "        joint[i] = existing_value + j    \n",
    "    else:\n",
    "        joint[i] = j\n",
    "print(f'(Exercise 2.6) {joint}')"
   ]
  },
  {
   "cell_type": "markdown",
   "id": "54548a5c-0719-4ca1-b964-5450661e481a",
   "metadata": {
    "jp-MarkdownHeadingCollapsed": true,
    "tags": []
   },
   "source": [
    "## Exercise 2.7"
   ]
  },
  {
   "cell_type": "markdown",
   "id": "b949e2f3-8cb1-468b-8fb9-0691deb8cff3",
   "metadata": {},
   "source": [
    "Write a list comprehension that takes a list of strings and converts each string to all-upper case string: [“sun”, “mon”, “tue”] to [“SUN”, “MON”, “TUE”]"
   ]
  },
  {
   "cell_type": "code",
   "execution_count": 100,
   "id": "48601eab-b78d-4e1c-a9de-13eab8ad89be",
   "metadata": {},
   "outputs": [
    {
     "name": "stdout",
     "output_type": "stream",
     "text": [
      "(Exercise 2.7) ['SUN', 'MON', 'TUE']\n"
     ]
    }
   ],
   "source": [
    "words = ['sun', 'mon', 'tue']\n",
    "words_upper = []\n",
    "for word in words:\n",
    "    words_upping = word.upper()\n",
    "    words_upper.append(words_upping)\n",
    "print(f'(Exercise 2.7) {words_upper}')"
   ]
  },
  {
   "cell_type": "markdown",
   "id": "c0e8cd90-8e35-419c-ab25-5f6781fa447c",
   "metadata": {
    "jp-MarkdownHeadingCollapsed": true,
    "tags": []
   },
   "source": [
    "## Exercise 2.8"
   ]
  },
  {
   "cell_type": "markdown",
   "id": "a1937577-9293-4514-baa7-e479e490f0de",
   "metadata": {},
   "source": [
    "Write a list comprehension that takes a list of numbers and converts each number to a string."
   ]
  },
  {
   "cell_type": "code",
   "execution_count": 101,
   "id": "4bf2dfb9-93d8-4b78-b1da-232868e5bac2",
   "metadata": {},
   "outputs": [
    {
     "name": "stdout",
     "output_type": "stream",
     "text": [
      "(Exercise 2.8) ['1', '2', '3', '4']\n"
     ]
    }
   ],
   "source": [
    "numbers = [1,2,3,4]\n",
    "numbers_stringed = []\n",
    "for number in numbers:\n",
    "    numbers_stringing = str(number)\n",
    "    numbers_stringed.append(numbers_stringing)\n",
    "print(f'(Exercise 2.8) {numbers_stringed}')"
   ]
  },
  {
   "cell_type": "markdown",
   "id": "ae5804c2-0da9-4dba-bb4b-7acaab8e12f6",
   "metadata": {
    "jp-MarkdownHeadingCollapsed": true,
    "tags": []
   },
   "source": [
    "## Exercise 2.9"
   ]
  },
  {
   "cell_type": "markdown",
   "id": "1d391d4b-5d64-4dac-8c08-2ae949a9c0df",
   "metadata": {},
   "source": [
    "Write the code that:\n",
    ">1. Reads the contents of \" aston.txt \" (please download the attachment)\n",
    "\n",
    ">2. Replaces all punctuation symbols with a white space in the text.\n",
    "\n",
    ">3. Finds all unique words in the text, that is, a list of all words that appeared at least once in the text. For example, in \"This is a cat and this is a dog\", the unique words are: \"this\", \"is\", \"a\", \"cat\", \"and\", \"dog\". For the purposes of this assignment, consider a word to be any sequence of characters between two whitespaces.\n",
    "\n",
    ">4. Prints the unique words to a file called \"unique_words.txt\", sorted alphabetically"
   ]
  },
  {
   "cell_type": "code",
   "execution_count": 102,
   "id": "2c35c388-6cef-4b9e-855f-73df56c03c4e",
   "metadata": {},
   "outputs": [
    {
     "name": "stdout",
     "output_type": "stream",
     "text": [
      "(Exercise 2.9) Done!\n"
     ]
    }
   ],
   "source": [
    "with open(\"Aston.txt\", \"r\") as file:\n",
    "    text = file.read()\n",
    "text = text.replace(\"'\",' ')\n",
    "set_text = set(text.split(' '))\n",
    "\n",
    "with open(\"unique_words.txt\", \"w\") as output_file:\n",
    "    sorted_unique_words = sorted(set_text)\n",
    "    for word in sorted_unique_words:\n",
    "        output_file.write(word + \"\\n\")\n",
    "print('(Exercise 2.9) Done!')"
   ]
  },
  {
   "cell_type": "markdown",
   "id": "bac6ea38-a081-4881-ab84-8d3b41c078f7",
   "metadata": {
    "jp-MarkdownHeadingCollapsed": true,
    "tags": []
   },
   "source": [
    "## Exercise 2.10"
   ]
  },
  {
   "cell_type": "markdown",
   "id": "90c51af7-7816-4ebe-ac88-9c77fb2441d7",
   "metadata": {},
   "source": [
    "Describe potential sources of runtime errors in this code snippet:\n",
    "> user provides the input"
   ]
  },
  {
   "cell_type": "code",
   "execution_count": 103,
   "id": "f3727527-7354-4282-a8b8-4c1680c7c389",
   "metadata": {},
   "outputs": [
    {
     "name": "stdout",
     "output_type": "stream",
     "text": [
      "(Exercise 2.10) Why would you put '[]' in the code?? try to just multiply (*) them instead\n"
     ]
    }
   ],
   "source": [
    "a = 2\n",
    "c = 3\n",
    "d = 4\n",
    "\n",
    "# calculations\n",
    "try:\n",
    "    x = float(a)\n",
    "    y = x / d[c]\n",
    "    print(f\"(Exercise 2.10) The result is {y}\")\n",
    "except:\n",
    "    print(f\"(Exercise 2.10) Why would you put '[]' in the code?? try to just multiply (*) them instead\")"
   ]
  },
  {
   "cell_type": "markdown",
   "id": "a0b0e37c-24f9-42f4-a638-41b215eae3b7",
   "metadata": {
    "jp-MarkdownHeadingCollapsed": true,
    "tags": []
   },
   "source": [
    "## Exercise 2.11"
   ]
  },
  {
   "cell_type": "markdown",
   "id": "407039ce-6e64-4cfc-8971-027a2545b820",
   "metadata": {},
   "source": [
    "Add a try-except statement(s) to handle possible errors. Print an error message if this happens. user provides the input."
   ]
  },
  {
   "cell_type": "code",
   "execution_count": 104,
   "id": "dd593625-8063-40a2-850c-2681dec683f0",
   "metadata": {},
   "outputs": [
    {
     "name": "stdout",
     "output_type": "stream",
     "text": [
      "(Exercise 2.11) Check your input, 'name' should be a number\n"
     ]
    }
   ],
   "source": [
    "try:\n",
    "    d = 2\n",
    "    name = 'Bill'\n",
    "    x = d[name]\n",
    "    print(f'(Exercise 2.11) {x}')\n",
    "except TypeError as exc:\n",
    "    print(f\"(Exercise 2.11) Check your input, 'name' should be a number\")\n",
    "except IndexError as exc:\n",
    "    print(f\"(Exercise 2.11) Check your input, the index should be smaller than the size of the list!\")\n"
   ]
  },
  {
   "cell_type": "markdown",
   "id": "21bf545d-c270-4f9c-b60f-d972cb53c901",
   "metadata": {
    "jp-MarkdownHeadingCollapsed": true,
    "tags": []
   },
   "source": [
    "## Exercise 2.12"
   ]
  },
  {
   "cell_type": "markdown",
   "id": "d0a09d54-4907-4ad9-97bb-a22375e653f4",
   "metadata": {},
   "source": [
    "In Jupyter, write code that divides one integer by another integer and prints the result. Ensure that the code runs to completion by printing \"Done\" at the end. Allow for these possibilities:\n",
    "> that the second integer may be 0.\n",
    "\n",
    "> that the second integer may be a string.\n",
    "\n",
    "> that some unforeseen error occurs."
   ]
  },
  {
   "cell_type": "code",
   "execution_count": 105,
   "id": "4b2ab935-fafc-4aef-ac9e-e446c8fe54a5",
   "metadata": {},
   "outputs": [],
   "source": []
  }
 ],
 "metadata": {
  "kernelspec": {
   "display_name": "Python 3 (ipykernel)",
   "language": "python",
   "name": "python3"
  },
  "language_info": {
   "codemirror_mode": {
    "name": "ipython",
    "version": 3
   },
   "file_extension": ".py",
   "mimetype": "text/x-python",
   "name": "python",
   "nbconvert_exporter": "python",
   "pygments_lexer": "ipython3",
   "version": "3.9.12"
  }
 },
 "nbformat": 4,
 "nbformat_minor": 5
}
