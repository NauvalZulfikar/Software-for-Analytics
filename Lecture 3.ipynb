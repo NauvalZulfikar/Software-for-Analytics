{
 "cells": [
  {
   "cell_type": "markdown",
   "id": "a37e5488-ee76-48d0-980c-d369ae414169",
   "metadata": {
    "tags": []
   },
   "source": [
    "# Lecture 3"
   ]
  },
  {
   "cell_type": "markdown",
   "id": "595057b5-7ccc-4810-b822-9dbcce1d0e19",
   "metadata": {
    "jp-MarkdownHeadingCollapsed": true,
    "tags": []
   },
   "source": [
    "## Exercise 3.1"
   ]
  },
  {
   "cell_type": "markdown",
   "id": "dbe51674-0ddf-405a-b62b-dacd4fbe5fcb",
   "metadata": {},
   "source": [
    "Write a function that takes two lists of strings and returns a list of those strings that are present in both input lists."
   ]
  },
  {
   "cell_type": "code",
   "execution_count": 97,
   "id": "3491f104-6442-451c-bb2a-11fb633dcbc4",
   "metadata": {},
   "outputs": [
    {
     "name": "stdout",
     "output_type": "stream",
     "text": [
      "(Exercise 3.1) ['a', 'd']\n"
     ]
    }
   ],
   "source": [
    "list1 = [\"a\", \"b\", \"c\", \"d\", \"e\"]\n",
    "list2 = [\"a\", \"f\", \"g\", \"d\", \"h\"]\n",
    "\n",
    "def list_present(list1,list2):\n",
    "    return [i for i in list1 if i in list2]\n",
    "    \n",
    "print(f'(Exercise 3.1) {list_present(list1,list2)}')"
   ]
  },
  {
   "cell_type": "markdown",
   "id": "8210e5a2-3bb2-4723-9b33-227add034c99",
   "metadata": {
    "jp-MarkdownHeadingCollapsed": true,
    "tags": []
   },
   "source": [
    "## Exercise 3.2"
   ]
  },
  {
   "cell_type": "markdown",
   "id": "a5879561-0c56-4a78-b089-eb51165f4c2d",
   "metadata": {},
   "source": [
    "Write a function that takes a list of numbers as an argument and returns the mean of the numbers."
   ]
  },
  {
   "cell_type": "code",
   "execution_count": 98,
   "id": "ebcd6a98-fe7c-4596-adfc-38ec607f98c5",
   "metadata": {},
   "outputs": [
    {
     "name": "stdout",
     "output_type": "stream",
     "text": [
      "(Exercise 3.2) 5.8\n"
     ]
    }
   ],
   "source": [
    "list1 = [5, 3, 7, 8, 6]\n",
    "\n",
    "def list_ave(list1):\n",
    "    return sum(list1)/len(list1)\n",
    "    \n",
    "print(f'(Exercise 3.2) {list_ave(list1)}')"
   ]
  },
  {
   "cell_type": "markdown",
   "id": "b40ee2ae-9212-4d91-9156-c8b2dc6475e3",
   "metadata": {
    "jp-MarkdownHeadingCollapsed": true,
    "tags": []
   },
   "source": [
    "## Exercise 3.3"
   ]
  },
  {
   "cell_type": "markdown",
   "id": "405c6f08-c2de-44cc-bec5-42fdb707ebd8",
   "metadata": {},
   "source": [
    "Write a script that contains a function, the function should:\n",
    "\n",
    ">• Accept a name of the day of the week and return the next day of the week (e.g., given “Monday”, return “Tuesday”), hint: use mylist.index(myelement)\n",
    "\n",
    ">• How would you handle the possibility that the argument to the function is misspelled?\n",
    "\n",
    ">• Make sure that if the user inputs “Sunday”, \"Monday\" is returned as the next day.\n",
    "Assume that the week begins with a Monday and ends with a Sunday.\n"
   ]
  },
  {
   "cell_type": "code",
   "execution_count": 99,
   "id": "4dad2597-1ae8-4073-957f-1336f38fead2",
   "metadata": {},
   "outputs": [
    {
     "name": "stdout",
     "output_type": "stream",
     "text": [
      "(Exercise 3.3) Wednesday\n"
     ]
    }
   ],
   "source": [
    "days = ['Monday', 'Tuesday', 'Wednesday', 'Thursday', 'Friday', 'Saturday', 'Sunday']\n",
    "\n",
    "def input_day(day):\n",
    "    return days[(days.index(day) + 1) % len(days)] if day in days else 'Typo, please try again!'\n",
    "print(f\"(Exercise 3.3) {input_day('Tuesday')}\")"
   ]
  },
  {
   "cell_type": "markdown",
   "id": "965e030d-a550-46c3-93ec-c502372093ea",
   "metadata": {
    "jp-MarkdownHeadingCollapsed": true,
    "tags": []
   },
   "source": [
    "## Exercise 3.4"
   ]
  },
  {
   "cell_type": "markdown",
   "id": "7b4c3e99-26ae-4b6b-a8b1-086c5cd1a652",
   "metadata": {},
   "source": [
    "Write a function that takes a list of numbers and returns the variance of the numbers (reuse the previous function from Exercise 3.2, if possible). The formula for variance is:"
   ]
  },
  {
   "cell_type": "code",
   "execution_count": 102,
   "id": "7a12e7d6-fd0c-4ebf-8f2c-9ec612bfcf7b",
   "metadata": {},
   "outputs": [
    {
     "data": {
      "text/plain": [
       "[-0.16, -0.56, 0.24, 0.44, 0.04]"
      ]
     },
     "execution_count": 102,
     "metadata": {},
     "output_type": "execute_result"
    }
   ],
   "source": [
    "list1 = [5, 3, 7, 8, 6]\n",
    "\n",
    "def list_var(list1):\n",
    "    return [round(((x-list_ave(list1))/len(list1)),2) for x in list1]\n",
    "list_var(list1)"
   ]
  },
  {
   "cell_type": "markdown",
   "id": "96f985c6-0aa6-45de-909d-a4631f22004f",
   "metadata": {
    "jp-MarkdownHeadingCollapsed": true,
    "tags": []
   },
   "source": [
    "## Exercise 3.5"
   ]
  },
  {
   "cell_type": "markdown",
   "id": "bbd48533-a5fd-4ad0-8d25-106a3e1159c6",
   "metadata": {},
   "source": [
    "Consider the class Card below. Your task is to use this class to create a deck of cards: create an empty list called \"deck\", and then iterate over all the ranks and suits to create all the necessary cards and add them all to the deck."
   ]
  },
  {
   "cell_type": "code",
   "execution_count": 112,
   "id": "620bf706-d24c-4a28-aa25-d8069b4b1c65",
   "metadata": {},
   "outputs": [],
   "source": [
    "import random\n",
    "\n",
    "class Card:\n",
    "    \n",
    "    def __init__(self, suit, rank):\n",
    "        self.suit = suit\n",
    "        self.rank = rank\n",
    "\n",
    "suits = [\"Spades\", \"Clubs\", \"Hearts\", \"Diamonds\"]\n",
    "ranks = [\"2\", \"3\", \"4\", \"5\", \"6\", \"7\", \"8\", \"9\", \"10\", \"J\", \"Q\", \"K\", \"A\"]\n",
    "\n",
    "deck = [Card(suit,rank) for suit in suits for rank in ranks]"
   ]
  },
  {
   "cell_type": "markdown",
   "id": "d7e950f6-e0a4-4a2d-90c0-c33922efba78",
   "metadata": {},
   "source": [
    "After that, you need to shuffle the deck, take the first card and print its suit and rank. The format of the output should be as follows: \"The Q of Hearts\".\n",
    "To shuffle the deck of cards, you can use the built-in \"random\" package as follows:"
   ]
  },
  {
   "cell_type": "code",
   "execution_count": 113,
   "id": "ffd8fc50-c2be-4b69-9c08-e2027b82ceb5",
   "metadata": {},
   "outputs": [
    {
     "name": "stdout",
     "output_type": "stream",
     "text": [
      "The A of Hearts\n"
     ]
    }
   ],
   "source": [
    "random.shuffle(deck)\n",
    "\n",
    "print(f'The {deck[0].rank} of {deck[0].suit}')"
   ]
  },
  {
   "cell_type": "markdown",
   "id": "d7f3fa82-6eba-4ef7-92ba-342a363cb20b",
   "metadata": {
    "jp-MarkdownHeadingCollapsed": true,
    "tags": []
   },
   "source": [
    "## Exercise 3.6"
   ]
  },
  {
   "cell_type": "markdown",
   "id": "80bd9583-6291-428e-ba4d-1df8eda84241",
   "metadata": {},
   "source": [
    "Write a program that reads the contents of \"aston.txt\" (see the attachment), and counts occurrences of every word in the text, and prints the 10 most common words."
   ]
  },
  {
   "cell_type": "code",
   "execution_count": 100,
   "id": "dc044b3c-f22a-443e-bf1a-fc996a625d84",
   "metadata": {},
   "outputs": [
    {
     "data": {
      "text/plain": [
       "[[29, 'UK.[10]\\n\\nHistory\\n\\nPredecessor'],\n",
       " [25, 'buildings.[14][unreliable'],\n",
       " [21, '1965.[16]\\n\\nUniversity'],\n",
       " [18, 'graduates.[22][23]'],\n",
       " [17, 'institutions\\n\\nThe'],\n",
       " [17, 'University\\n\\nAston'],\n",
       " [17, 'Sciences.[21]\\n\\nIn'],\n",
       " [16, 'University.\\n\\nThe'],\n",
       " [16, 'Forward.[17]\\n\\nIn'],\n",
       " [15, 'technology.\\n\\nIn']]"
      ]
     },
     "execution_count": 100,
     "metadata": {},
     "output_type": "execute_result"
    }
   ],
   "source": [
    "with open('Aston (Lecture 3).txt','r') as reader:\n",
    "    text = reader.read().split(' ')\n",
    "    \n",
    "def text_counter(text):\n",
    "    return [[len(x),x] for x in text]\n",
    "sorted(text_counter(text),reverse=True)[:10]"
   ]
  },
  {
   "cell_type": "markdown",
   "id": "d69c17b7-4dab-4449-8805-085d34570c5b",
   "metadata": {
    "jp-MarkdownHeadingCollapsed": true,
    "tags": []
   },
   "source": [
    "## Exercise 3.7"
   ]
  },
  {
   "cell_type": "markdown",
   "id": "8a796098-cf03-434b-b2c3-0e116a3b5f01",
   "metadata": {},
   "source": [
    "Find out the number of days between 10th July 2018 and 20th September 2019"
   ]
  },
  {
   "cell_type": "code",
   "execution_count": 32,
   "id": "cd7d02be-7715-4b5b-be49-940c36f5d137",
   "metadata": {},
   "outputs": [
    {
     "data": {
      "text/plain": [
       "437"
      ]
     },
     "execution_count": 32,
     "metadata": {},
     "output_type": "execute_result"
    }
   ],
   "source": [
    "from datetime import datetime\n",
    "(datetime.strptime('20-9-2019','%d-%m-%Y') - datetime.strptime('10-7-2018','%d-%m-%Y')).days"
   ]
  },
  {
   "cell_type": "markdown",
   "id": "8e179959-0425-4dc6-ad5b-d6627d142631",
   "metadata": {
    "jp-MarkdownHeadingCollapsed": true,
    "tags": []
   },
   "source": [
    "## Exercise 3.8"
   ]
  },
  {
   "cell_type": "markdown",
   "id": "380aeeca-bf8e-4d1a-a673-1178d9793c61",
   "metadata": {},
   "source": [
    "In the period between 1 January 2018 and 29 September 2019, an investment into stock A produced a cumulative return of 0.29, i.e. the investment grew by 29%. In the period between 1 February 2018 and 31 July 2019, an investment into stock B produced a cumulative return of 0.23. Calculate the annualized returns for both stocks and find out which stock proved the better investment.\n",
    "\n",
    "The formula for annualized return is:\n",
    "\n",
    "AnnualizedReturn = (1 + CumulativeReturn)365/DaysHeld - 1\n",
    "\n",
    "where DaysHeld is the number of days the investment was held in the stock."
   ]
  },
  {
   "cell_type": "code",
   "execution_count": 37,
   "id": "a9f696c1-ba50-44ad-8786-72997f429b87",
   "metadata": {},
   "outputs": [
    {
     "name": "stdout",
     "output_type": "stream",
     "text": [
      "Stock A (0.24%) is the better investment than Stock B (0.15%)\n"
     ]
    }
   ],
   "source": [
    "CumulativeReturn1 = 0.29\n",
    "CumulativeReturn2 = 0.23\n",
    "DaysHeld1 = (datetime.strptime('20-9-2019','%d-%m-%Y') - datetime.strptime('10-7-2018','%d-%m-%Y')).days\n",
    "DaysHeld2 = (datetime.strptime('31-7-2019','%d-%m-%Y') - datetime.strptime('1-2-2018','%d-%m-%Y')).days\n",
    "AnnualizedReturn1 = round((1 + CumulativeReturn1)**(365/DaysHeld1) - 1,2)\n",
    "AnnualizedReturn2 = round((1 + CumulativeReturn2)**(365/DaysHeld2) - 1,2)\n",
    "\n",
    "print(f'Stock A ({AnnualizedReturn1}%) is the better investment than Stock B ({AnnualizedReturn2}%)') if AnnualizedReturn1 > AnnualizedReturn2 else print(f'Stock B ({AnnualizedReturn2}%) is the better investment than Stock A ({AnnualizedReturn1}%)') "
   ]
  },
  {
   "cell_type": "markdown",
   "id": "571758d4-528f-4bff-97de-600b1a27504e",
   "metadata": {
    "jp-MarkdownHeadingCollapsed": true,
    "tags": []
   },
   "source": [
    "## Exercise 3.9"
   ]
  },
  {
   "cell_type": "markdown",
   "id": "923768ba-30be-471f-8c63-a1c3418ba580",
   "metadata": {},
   "source": [
    "Use the \"factorial\" function of the built-in \"math\" package to calculate the factorial of 5. The function takes a single argument, the number for which the factorial needs to be calculated.\n",
    "\n",
    "Import the function in at least two different ways."
   ]
  },
  {
   "cell_type": "code",
   "execution_count": 30,
   "id": "0f430eb5-763e-4b3e-9947-f8c2becfadd8",
   "metadata": {},
   "outputs": [
    {
     "name": "stdout",
     "output_type": "stream",
     "text": [
      "120\n"
     ]
    }
   ],
   "source": [
    "import math\n",
    "\n",
    "factorial_ = math.factorial(5)\n",
    "print(factorial_)"
   ]
  },
  {
   "cell_type": "code",
   "execution_count": 31,
   "id": "b43dbda6-fdc8-4f51-8c90-8f8d0567b339",
   "metadata": {},
   "outputs": [
    {
     "name": "stdout",
     "output_type": "stream",
     "text": [
      "120\n"
     ]
    }
   ],
   "source": [
    "from math import factorial\n",
    "\n",
    "factorial_ = factorial(5)\n",
    "print(factorial_)"
   ]
  },
  {
   "cell_type": "markdown",
   "id": "3c796bba-b32f-493c-bedc-cd697f0d25b1",
   "metadata": {
    "jp-MarkdownHeadingCollapsed": true,
    "tags": []
   },
   "source": [
    "## Exercise 3.10"
   ]
  },
  {
   "cell_type": "markdown",
   "id": "1680307b-8e8a-41a9-a953-e0a895de5b1d",
   "metadata": {},
   "source": [
    "The \"requests\" package contains a function called \"get\". The function accepts a URL as a string argument and returns a data structure with different types of information on the URL.\n",
    "AnnualizedReturn\n",
    "Import the function and retrieve a URL (e.g., \"https://www.aston.ac.uk\"), use the variable named \"response\" to store the data structure and then save the value \"response.text\" to a local file called \"url.html\"."
   ]
  },
  {
   "cell_type": "code",
   "execution_count": 29,
   "id": "d417222a-ee96-45d4-81a2-3a58cc92ee13",
   "metadata": {},
   "outputs": [],
   "source": [
    "import requests\n",
    "from bs4 import BeautifulSoup\n",
    "\n",
    "URL = \"https://www.aston.ac.uk\"\n",
    "response = requests.get(URL)\n",
    "soup = BeautifulSoup(response.content, \"html.parser\")\n",
    "\n",
    "with open('url.html','x',encoding='utf-8') as creator:\n",
    "    with open('response.txt','w') as writer:\n",
    "        writer.write(soup.prettify())"
   ]
  }
 ],
 "metadata": {
  "kernelspec": {
   "display_name": "Python 3 (ipykernel)",
   "language": "python",
   "name": "python3"
  },
  "language_info": {
   "codemirror_mode": {
    "name": "ipython",
    "version": 3
   },
   "file_extension": ".py",
   "mimetype": "text/x-python",
   "name": "python",
   "nbconvert_exporter": "python",
   "pygments_lexer": "ipython3",
   "version": "3.9.12"
  }
 },
 "nbformat": 4,
 "nbformat_minor": 5
}
